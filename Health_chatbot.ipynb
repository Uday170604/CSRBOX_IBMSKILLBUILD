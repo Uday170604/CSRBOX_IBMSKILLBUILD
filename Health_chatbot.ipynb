{
  "nbformat": 4,
  "nbformat_minor": 0,
  "metadata": {
    "colab": {
      "provenance": [],
      "authorship_tag": "ABX9TyO9Rbd4CfZLPrCJ3TUj1otc",
      "include_colab_link": true
    },
    "kernelspec": {
      "name": "python3",
      "display_name": "Python 3"
    },
    "language_info": {
      "name": "python"
    }
  },
  "cells": [
    {
      "cell_type": "markdown",
      "metadata": {
        "id": "view-in-github",
        "colab_type": "text"
      },
      "source": [
        "<a href=\"https://colab.research.google.com/github/Uday170604/CSRBOX_IBMSKILLBUILD/blob/main/Health_chatbot.ipynb\" target=\"_parent\"><img src=\"https://colab.research.google.com/assets/colab-badge.svg\" alt=\"Open In Colab\"/></a>"
      ]
    },
    {
      "cell_type": "code",
      "execution_count": null,
      "metadata": {
        "colab": {
          "base_uri": "https://localhost:8080/"
        },
        "id": "IqBmZZT3m-2K",
        "outputId": "5d8d43c5-3e41-4d7f-878f-617b3874acec"
      },
      "outputs": [
        {
          "output_type": "stream",
          "name": "stdout",
          "text": [
            "\u001b[2K     \u001b[90m━━━━━━━━━━━━━━━━━━━━━━━━━━━━━━━━━━━━━━━━\u001b[0m \u001b[32m43.7/43.7 kB\u001b[0m \u001b[31m2.4 MB/s\u001b[0m eta \u001b[36m0:00:00\u001b[0m\n",
            "\u001b[2K   \u001b[90m━━━━━━━━━━━━━━━━━━━━━━━━━━━━━━━━━━━━━━━━\u001b[0m \u001b[32m143.8/143.8 kB\u001b[0m \u001b[31m5.3 MB/s\u001b[0m eta \u001b[36m0:00:00\u001b[0m\n",
            "\u001b[2K   \u001b[90m━━━━━━━━━━━━━━━━━━━━━━━━━━━━━━━━━━━━━━━━\u001b[0m \u001b[32m42.0/42.0 kB\u001b[0m \u001b[31m2.8 MB/s\u001b[0m eta \u001b[36m0:00:00\u001b[0m\n",
            "\u001b[2K   \u001b[90m━━━━━━━━━━━━━━━━━━━━━━━━━━━━━━━━━━━━━━━━\u001b[0m \u001b[32m757.5/757.5 kB\u001b[0m \u001b[31m19.5 MB/s\u001b[0m eta \u001b[36m0:00:00\u001b[0m\n",
            "\u001b[2K   \u001b[90m━━━━━━━━━━━━━━━━━━━━━━━━━━━━━━━━━━━━━━━━\u001b[0m \u001b[32m43.8/43.8 kB\u001b[0m \u001b[31m3.2 MB/s\u001b[0m eta \u001b[36m0:00:00\u001b[0m\n",
            "\u001b[2K   \u001b[90m━━━━━━━━━━━━━━━━━━━━━━━━━━━━━━━━━━━━━━━━\u001b[0m \u001b[32m50.2/50.2 kB\u001b[0m \u001b[31m3.7 MB/s\u001b[0m eta \u001b[36m0:00:00\u001b[0m\n",
            "\u001b[2K   \u001b[90m━━━━━━━━━━━━━━━━━━━━━━━━━━━━━━━━━━━━━━━━\u001b[0m \u001b[32m216.5/216.5 kB\u001b[0m \u001b[31m14.0 MB/s\u001b[0m eta \u001b[36m0:00:00\u001b[0m\n",
            "\u001b[?25h"
          ]
        }
      ],
      "source": [
        "!pip install -qU \\\n",
        "  google-generativeai==0.8.5 \\\n",
        "  google-ai-generativelanguage==0.6.15 \\\n",
        "  langgraph \\\n",
        "  langchain \\\n",
        "  langchain-google-genai \\\n",
        "  openai"
      ]
    },
    {
      "cell_type": "code",
      "source": [
        "import os\n",
        "import getpass\n",
        "from langgraph.graph import StateGraph, END\n",
        "from langchain_google_genai import ChatGoogleGenerativeAI\n",
        "from langchain_core.messages import HumanMessage"
      ],
      "metadata": {
        "id": "Rya2ksPvnP2J"
      },
      "execution_count": null,
      "outputs": []
    },
    {
      "cell_type": "code",
      "source": [
        "os.environ[\"GOOGLE_API_KEY\"] = getpass.getpass(\"Enter your gemini key\")"
      ],
      "metadata": {
        "colab": {
          "base_uri": "https://localhost:8080/"
        },
        "id": "DQDF2KYmnh50",
        "outputId": "0638fb1d-69cc-4e6c-e382-605b422a420e"
      },
      "execution_count": null,
      "outputs": [
        {
          "name": "stdout",
          "output_type": "stream",
          "text": [
            "Enter your gemini key··········\n"
          ]
        }
      ]
    },
    {
      "cell_type": "code",
      "source": [
        "llm = ChatGoogleGenerativeAI(model=\"models/gemini-1.5-flash-latest\", temperature=0.2)"
      ],
      "metadata": {
        "id": "QYQmyeFToR9T"
      },
      "execution_count": null,
      "outputs": []
    },
    {
      "cell_type": "code",
      "source": [
        "def get_problem(state: dict) -> dict:\n",
        "  problem = input(\"This is an Expert A.I guide for your health problem , Please enter the problem to be solved\")\n",
        "  state[\"problem\"] = problem\n",
        "  return state"
      ],
      "metadata": {
        "id": "tuFrms2RpLTf"
      },
      "execution_count": null,
      "outputs": []
    },
    {
      "cell_type": "code",
      "source": [
        "def classify_problem(state: dict) -> dict:\n",
        "    prompt = (\n",
        "        \"You are a helpful health doctor specialist. Classify the user's health concern below into one of the categories:\\n\"\n",
        "        \"- Awareness\\n- Action\\n- Emergency\\n\\n\"\n",
        "        f\"problem: {state['problem']}\\n\"\n",
        "        \"Respond with only one word: Awareness, Action, or Emergency.\\n\"\n",
        "        \"#Example: input: I’m experiencing chest pain and shortness of breath. → output: Emergency\"\n",
        "    )\n",
        "    response = llm.invoke([HumanMessage(content=prompt)])\n",
        "    category = response.content.strip()\n",
        "    print(f\"LLM Classifies the problem as: {category}\")\n",
        "    state[\"category\"] = category\n"
      ],
      "metadata": {
        "id": "0zFMxKl3qoTC"
      },
      "execution_count": null,
      "outputs": []
    },
    {
      "cell_type": "code",
      "source": [
        "def problem_router(state: dict) -> dict:\n",
        "    \"\"\"\n",
        "    Routes a health concern based on its classified category.\n",
        "    Categories:\n",
        "    - 'awareness'  → General health education or non-urgent knowledge\n",
        "    - 'action'     → Needs a consultation, check-up, or lifestyle change\n",
        "    - 'emergency'  → Urgent medical issue requiring immediate attention\n",
        "    \"\"\"\n",
        "    cat = state[\"category\"].lower()\n",
        "    if \"awareness\" in cat:\n",
        "        return \"awareness\"\n",
        "    elif \"emergency\" in cat:\n",
        "        return \"emergency\"\n",
        "    elif \"action\" in cat:\n",
        "        return \"action\"\n",
        "    else:\n",
        "        return \"awareness\"\n"
      ],
      "metadata": {
        "id": "k1WBktFBrB5T"
      },
      "execution_count": null,
      "outputs": []
    },
    {
      "cell_type": "code",
      "source": [
        "def awareness_node(state: dict) -> dict:\n",
        "    prompt = (\n",
        "        f\"You are a knowledgeable health educator.\\n\"\n",
        "        f\"User's concern: {state['problem']}\\n\"\n",
        "        \"Give an informative, clear explanation to raise the user's awareness about this health-related issue.\"\n",
        "    )\n",
        "    response = llm.invoke([HumanMessage(content=prompt)])\n",
        "    state[\"answer\"] = response.content.strip()\n",
        "    return state\n",
        "\n",
        "def emergency_node(state: dict) -> dict:\n",
        "    prompt = (\n",
        "        f\"You are a medical emergency specialist.\\n\"\n",
        "        f\"Emergency situation: {state['problem']}\\n\"\n",
        "        \"Provide urgent medical advice or immediate steps the user should take to ensure their safety.\"\n",
        "    )\n",
        "    response = llm.invoke([HumanMessage(content=prompt)])\n",
        "    state[\"answer\"] = response.content.strip()\n",
        "    return state\n",
        "\n",
        "def action_node(state: dict) -> dict:\n",
        "    prompt = (\n",
        "        f\"You are a helpful health doctor specialist.\\n\"\n",
        "        f\"User's concern: {state['problem']}\\n\"\n",
        "        \"Please provide a clear, specific action the user can take to address this health issue (e.g., lifestyle change, consultation, first aid).\"\n",
        "    )\n",
        "    response = llm.invoke([HumanMessage(content=prompt)])\n",
        "    state[\"answer\"] = response.content.strip()\n",
        "    return state\n"
      ],
      "metadata": {
        "id": "c7jHkkhUrom3"
      },
      "execution_count": null,
      "outputs": []
    },
    {
      "cell_type": "code",
      "source": [
        "builder = StateGraph(dict)\n",
        "\n",
        "builder.set_entry_point(\"get_problem\")\n",
        "\n",
        "builder.add_node(\"get_problem\", get_problem)\n",
        "builder.add_node(\"classify\", classify_problem)\n",
        "builder.add_node(\"awareness\", awareness_node)\n",
        "builder.add_node(\"emergency\", emergency_node)\n",
        "builder.add_node(\"action\", action_node)\n",
        "\n",
        "builder.add_edge(\"get_problem\", \"classify\")\n",
        "\n",
        "builder.add_conditional_edges(\"classify\", problem_router, {\n",
        "    \"awareness\": \"awareness\",\n",
        "    \"emergency\": \"emergency\",\n",
        "    \"action\": \"action\"\n",
        "})\n",
        "\n",
        "builder.add_edge(\"awareness\", END)\n",
        "builder.add_edge(\"emergency\", END)\n",
        "builder.add_edge(\"action\", END)\n"
      ],
      "metadata": {
        "colab": {
          "base_uri": "https://localhost:8080/"
        },
        "id": "midoSP7ZsAyk",
        "outputId": "62dbd5ad-7544-4239-837c-99bd3fee47f0"
      },
      "execution_count": null,
      "outputs": [
        {
          "output_type": "execute_result",
          "data": {
            "text/plain": [
              "<langgraph.graph.state.StateGraph at 0x79f857ee9e90>"
            ]
          },
          "metadata": {},
          "execution_count": 12
        }
      ]
    },
    {
      "cell_type": "code",
      "source": [
        "graph = builder.compile()\n",
        "\n",
        "final_state = graph.invoke({})\n",
        "\n",
        "print(\"Final Output:\")\n",
        "print(final_state[\"answer\"])"
      ],
      "metadata": {
        "colab": {
          "base_uri": "https://localhost:8080/"
        },
        "id": "1dA5KiEksdvP",
        "outputId": "8a6e7d43-aac9-4706-dca3-9e2ff05f033c"
      },
      "execution_count": null,
      "outputs": [
        {
          "output_type": "stream",
          "name": "stdout",
          "text": [
            "This is an Expert A.I guide for your health problem , Please enter the problem to be solvedi have fever\n",
            "LLM Classifies the problem as: Awareness\n",
            "Final Output:\n",
            "Having a fever means your body temperature is higher than normal.  A normal body temperature is generally considered to be around 98.6°F (37°C), but it can fluctuate slightly throughout the day and between individuals.  A fever is usually defined as a temperature of 100.4°F (38°C) or higher, measured orally.  Rectal temperatures are generally a degree higher, and axillary (armpit) temperatures are usually a degree lower.\n",
            "\n",
            "**What causes a fever?**\n",
            "\n",
            "Fever isn't an illness itself, but rather a *symptom* of an underlying condition.  Your body raises its temperature as a defense mechanism to fight off infection, such as:\n",
            "\n",
            "* **Viral infections:**  The common cold, flu, COVID-19, and other viral illnesses are common causes.\n",
            "* **Bacterial infections:**  These can range from strep throat to pneumonia to urinary tract infections.\n",
            "* **Other infections:**  Fungal or parasitic infections can also cause fever.\n",
            "* **Non-infectious causes:**  Sometimes, fever can be caused by things like autoimmune diseases, certain medications, heatstroke, or even some cancers.\n",
            "\n",
            "**What should I do if I have a fever?**\n",
            "\n",
            "First, it's important to **monitor your temperature regularly.**  Use a reliable thermometer and note the readings.  Pay attention to other symptoms you might be experiencing, such as:\n",
            "\n",
            "* **Cough**\n",
            "* **Sore throat**\n",
            "* **Muscle aches**\n",
            "* **Headache**\n",
            "* **Chills**\n",
            "* **Fatigue**\n",
            "* **Nausea or vomiting**\n",
            "* **Diarrhea**\n",
            "* **Rash**\n",
            "\n",
            "These symptoms can help determine the potential cause of your fever.\n",
            "\n",
            "**When should I seek medical attention?**\n",
            "\n",
            "While many fevers resolve on their own, you should seek medical attention if:\n",
            "\n",
            "* **Your fever is very high (over 103°F or 39.4°C).**\n",
            "* **Your fever lasts for more than 3-5 days.**\n",
            "* **You have severe symptoms like difficulty breathing, chest pain, stiff neck, or confusion.**\n",
            "* **You have a weakened immune system.**\n",
            "* **You are a young child or an older adult.**\n",
            "* **You are concerned about your symptoms.**\n",
            "\n",
            "**Home care for a fever:**\n",
            "\n",
            "While waiting for medical attention or if your fever is mild and you feel otherwise well, you can try these home remedies:\n",
            "\n",
            "* **Rest:**  Get plenty of sleep.\n",
            "* **Hydration:** Drink plenty of fluids like water, clear broths, or electrolyte drinks.\n",
            "* **Over-the-counter medications:**  Acetaminophen (Tylenol) or ibuprofen (Advil, Motrin) can help reduce fever and pain.  **Always follow the dosage instructions carefully and never give aspirin to children or teenagers.**\n",
            "* **Cool compresses:**  Applying cool, damp cloths to your forehead can provide some comfort.\n",
            "\n",
            "**Important Note:** This information is for general knowledge and does not constitute medical advice.  If you are concerned about your fever, please consult a doctor or other qualified healthcare professional for proper diagnosis and treatment.  They can determine the underlying cause of your fever and recommend the best course of action.\n"
          ]
        }
      ]
    }
  ]
}